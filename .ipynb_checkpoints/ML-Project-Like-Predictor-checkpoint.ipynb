{
 "cells": [
  {
   "cell_type": "markdown",
   "id": "bde9b49c",
   "metadata": {},
   "source": [
    "### LT2326 HT21 Project\n",
    "##### Calvin Kullvén Liao\n"
   ]
  },
  {
   "cell_type": "markdown",
   "id": "c81dad8e",
   "metadata": {},
   "source": [
    "#### Part 01 Dataset and preprocessing"
   ]
  },
  {
   "cell_type": "code",
   "execution_count": 1,
   "id": "2f1d2f50",
   "metadata": {},
   "outputs": [],
   "source": [
    "import pandas as pd"
   ]
  },
  {
   "cell_type": "code",
   "execution_count": 2,
   "id": "f4744e81",
   "metadata": {},
   "outputs": [],
   "source": [
    "# The original dataset are very large which takes long to process, so I only sample a small part\n",
    "pos_comments = pd.read_csv('data/comments_positive.csv').sample(5000)\n",
    "neg_comments = pd.read_csv('data/comments_negative.csv').sample(5000)"
   ]
  },
  {
   "cell_type": "markdown",
   "id": "b96c1b38",
   "metadata": {},
   "source": [
    "It appears that the upvotes/downvotes are concentrated, with extremely high/low score being a rarity. But upvotes have a wider range (with scores under 500 being more common) than downvotes (scores below -100 are rare).\n",
    "\n",
    "One way to preprocess this may be excluding the very high/low scores and only keep the ones within the common score range. Or see it as a pos vs neg binary classification."
   ]
  },
  {
   "cell_type": "code",
   "execution_count": 4,
   "id": "2275d182",
   "metadata": {},
   "outputs": [
    {
     "data": {
      "text/plain": [
       "<matplotlib.axes._subplots.AxesSubplot at 0x7f371948ac70>"
      ]
     },
     "execution_count": 4,
     "metadata": {},
     "output_type": "execute_result"
    },
    {
     "data": {
      "image/png": "[encoded data removed]",
      "text/plain": [
       "<Figure size 432x288 with 1 Axes>"
      ]
     },
     "metadata": {
      "needs_background": "light"
     },
     "output_type": "display_data"
    }
   ],
   "source": [
    "pos_comments['score'].plot.hist(bins=200)"
   ]
  },
  {
   "cell_type": "code",
   "execution_count": 5,
   "id": "96bfc31f",
   "metadata": {},
   "outputs": [
    {
     "data": {
      "text/plain": [
       "<matplotlib.axes._subplots.AxesSubplot at 0x7f372fce12e0>"
      ]
     },
     "execution_count": 5,
     "metadata": {},
     "output_type": "execute_result"
    },
    {
     "data": {
      "image/png": "[encoded data removed]",
      "text/plain": [
       "<Figure size 432x288 with 1 Axes>"
      ]
     },
     "metadata": {
      "needs_background": "light"
     },
     "output_type": "display_data"
    }
   ],
   "source": [
    "neg_comments['score'].plot.hist(bins=200)"
   ]
  },
  {
   "cell_type": "code",
   "execution_count": 6,
   "id": "3117c2a5",
   "metadata": {},
   "outputs": [],
   "source": [
    "# Simple binary classes instead of the plus/minus scores\n",
    "pos_comments['polarity'] = 1\n",
    "neg_comments['polarity'] = 0\n",
    "\n",
    "# Normalize the scores to 0~1 or 0~-1\n",
    "pos_comments['score'] = pos_comments['score'].transform(lambda x: x / abs(x).max())\n",
    "neg_comments['score'] = neg_comments['score'].transform(lambda x: x / abs(x).max())\n",
    "\n",
    "pos_comments['parent_score'] = pos_comments['parent_score'].transform(lambda x: x / abs(x).max())\n",
    "neg_comments['parent_score'] = neg_comments['parent_score'].transform(lambda x: x / abs(x).max())"
   ]
  },
  {
   "cell_type": "code",
   "execution_count": 7,
   "id": "52d951e1",
   "metadata": {},
   "outputs": [
    {
     "data": {
      "text/html": [
       "<div>\n",
       "<style scoped>\n",
       "    .dataframe tbody tr th:only-of-type {\n",
       "        vertical-align: middle;\n",
       "    }\n",
       "\n",
       "    .dataframe tbody tr th {\n",
       "        vertical-align: top;\n",
       "    }\n",
       "\n",
       "    .dataframe thead th {\n",
       "        text-align: right;\n",
       "    }\n",
       "</style>\n",
       "<table border=\"1\" class=\"dataframe\">\n",
       "  <thead>\n",
       "    <tr style=\"text-align: right;\">\n",
       "      <th></th>\n",
       "      <th>text</th>\n",
       "      <th>score</th>\n",
       "      <th>parent_text</th>\n",
       "      <th>parent_score</th>\n",
       "      <th>polarity</th>\n",
       "    </tr>\n",
       "  </thead>\n",
       "  <tbody>\n",
       "    <tr>\n",
       "      <th>1058593</th>\n",
       "      <td>&amp;gt;outside of Ford's iconic roles, most of hi...</td>\n",
       "      <td>0.030503</td>\n",
       "      <td>Hmm... 231 titles as actor compared to Ford's ...</td>\n",
       "      <td>-0.000189</td>\n",
       "      <td>1</td>\n",
       "    </tr>\n",
       "    <tr>\n",
       "      <th>438208</th>\n",
       "      <td>It would be more accurate to say that you're a...</td>\n",
       "      <td>-0.038202</td>\n",
       "      <td>Jesus, dude.  I just skimmed the news report. ...</td>\n",
       "      <td>0.003280</td>\n",
       "      <td>0</td>\n",
       "    </tr>\n",
       "    <tr>\n",
       "      <th>523314</th>\n",
       "      <td>iknooee . rite i do thee same thing i would te...</td>\n",
       "      <td>-0.033708</td>\n",
       "      <td>I used to do that about monthly when I was you...</td>\n",
       "      <td>0.003280</td>\n",
       "      <td>0</td>\n",
       "    </tr>\n",
       "    <tr>\n",
       "      <th>68776</th>\n",
       "      <td>For finals week in the fall I heard there were...</td>\n",
       "      <td>0.204452</td>\n",
       "      <td>They sure know how to make themselves notable.</td>\n",
       "      <td>0.121143</td>\n",
       "      <td>1</td>\n",
       "    </tr>\n",
       "    <tr>\n",
       "      <th>1271597</th>\n",
       "      <td>Against your penis, her tongue slithers up and...</td>\n",
       "      <td>0.026106</td>\n",
       "      <td>Just imagine the feeling of those ridges as th...</td>\n",
       "      <td>0.015900</td>\n",
       "      <td>1</td>\n",
       "    </tr>\n",
       "  </tbody>\n",
       "</table>\n",
       "</div>"
      ],
      "text/plain": [
       "                                                      text     score  \\\n",
       "1058593  &gt;outside of Ford's iconic roles, most of hi...  0.030503   \n",
       "438208   It would be more accurate to say that you're a... -0.038202   \n",
       "523314   iknooee . rite i do thee same thing i would te... -0.033708   \n",
       "68776    For finals week in the fall I heard there were...  0.204452   \n",
       "1271597  Against your penis, her tongue slithers up and...  0.026106   \n",
       "\n",
       "                                               parent_text  parent_score  \\\n",
       "1058593  Hmm... 231 titles as actor compared to Ford's ...     -0.000189   \n",
       "438208   Jesus, dude.  I just skimmed the news report. ...      0.003280   \n",
       "523314   I used to do that about monthly when I was you...      0.003280   \n",
       "68776       They sure know how to make themselves notable.      0.121143   \n",
       "1271597  Just imagine the feeling of those ridges as th...      0.015900   \n",
       "\n",
       "         polarity  \n",
       "1058593         1  \n",
       "438208          0  \n",
       "523314          0  \n",
       "68776           1  \n",
       "1271597         1  "
      ]
     },
     "execution_count": 7,
     "metadata": {},
     "output_type": "execute_result"
    }
   ],
   "source": [
    "comments = pd.concat([pos_comments, neg_comments])\n",
    "\n",
    "# There are duplicate columns, eg, 'ups' and 'score' are the same thing.\n",
    "repeated = ['ups', 'parent_ups']\n",
    "# Also dropping non-relevant columns\n",
    "others = ['id', 'parent_id', 'subreddit_id', 'link_id', 'author', 'parent_link_id', \n",
    "          'parent_author', 'controversiality', 'parent_controversiality']\n",
    "drop_these = lambda df:df.drop(columns=repeated+others) \n",
    "\n",
    "# Some texts are non-strings, or are only URLs\n",
    "filter_str = lambda df:df[df['text'].apply(lambda x: isinstance(x, str))]\n",
    "exclude_jpg = lambda df:df[~df['text'].str.contains(\"https://\")]\n",
    "                      \n",
    "comments = exclude_jpg(filter_str(drop_these(comments)))\n",
    "comments.sample(5)"
   ]
  },
  {
   "cell_type": "code",
   "execution_count": 8,
   "id": "fc3810e1",
   "metadata": {},
   "outputs": [],
   "source": [
    "# Shuffle and split to train/test\n",
    "from sklearn.model_selection import train_test_split\n",
    "train_comments, test_comments = train_test_split(comments, test_size=0.2)"
   ]
  },
  {
   "cell_type": "code",
   "execution_count": 9,
   "id": "405a32f8",
   "metadata": {},
   "outputs": [],
   "source": [
    "# from string import punctuation\n",
    "# from nltk import pos_tag\n",
    "from nltk.corpus import stopwords\n",
    "from nltk.tokenize import TweetTokenizer\n",
    "from nltk.stem import WordNetLemmatizer\n",
    "stop_words = set(stopwords.words('english')) \n",
    "\n",
    "def clean_text(text, lemmatize=False , clean_punc=False, clean_stopwords=False):\n",
    "    \n",
    "    text = str(text) # in case of non-string values\n",
    "    text = text.lower()\n",
    "    text = TweetTokenizer().tokenize(text) # => list of tokens\n",
    "    \n",
    "    if lemmatize:\n",
    "        text = [WordNetLemmatizer().lemmatize(token) for token in text]\n",
    "\n",
    "    if clean_punc:\n",
    "        text = [token for token in text if token not in punctuation]\n",
    "    if clean_stopwords:\n",
    "        text = [token for token in text if token not in stop_words]\n",
    "    \n",
    "    return text\n",
    "\n",
    "def df_to_generator(df):\n",
    "    df = df.dropna()\n",
    "    for i, row in df.iterrows():\n",
    "        columns = row.to_list() # text, score, parenttext, parentscore, polarity\n",
    "        yield columns\n",
    "        \n",
    "comments_iter = df_to_generator(comments)"
   ]
  },
  {
   "cell_type": "code",
   "execution_count": 10,
   "id": "8cca0a02",
   "metadata": {},
   "outputs": [],
   "source": [
    "from torchtext.vocab import build_vocab_from_iterator\n",
    "\n",
    "def yield_tokens(comments_iter):\n",
    "    for text, _, parenttext, _, _ in comments_iter: # text, score, parenttext, parentscore, polarity\n",
    "        yield clean_text(text)+clean_text(parenttext)\n",
    "\n",
    "vocab = build_vocab_from_iterator(yield_tokens(comments_iter), specials=[\"<unk>\"])\n",
    "vocab.set_default_index(vocab[\"<unk>\"])"
   ]
  },
  {
   "cell_type": "code",
   "execution_count": 11,
   "id": "1ee7ae84",
   "metadata": {},
   "outputs": [],
   "source": [
    "import numpy as np\n",
    "text_to_ids = lambda text: vocab(clean_text(text))\n",
    "text_to_array = lambda text: np.array(text_to_ids(text))\n",
    "label_pipeline = lambda x: int(x) - 1"
   ]
  },
  {
   "cell_type": "code",
   "execution_count": 12,
   "id": "e7498384",
   "metadata": {},
   "outputs": [
    {
     "name": "stderr",
     "output_type": "stream",
     "text": [
      "/tmp/ipykernel_1079451/1422472211.py:1: SettingWithCopyWarning: \n",
      "A value is trying to be set on a copy of a slice from a DataFrame.\n",
      "Try using .loc[row_indexer,col_indexer] = value instead\n",
      "\n",
      "See the caveats in the documentation: https://pandas.pydata.org/pandas-docs/stable/user_guide/indexing.html#returning-a-view-versus-a-copy\n",
      "  train_comments['text'] = train_comments['text'].apply(text_to_array)\n",
      "/tmp/ipykernel_1079451/1422472211.py:2: SettingWithCopyWarning: \n",
      "A value is trying to be set on a copy of a slice from a DataFrame.\n",
      "Try using .loc[row_indexer,col_indexer] = value instead\n",
      "\n",
      "See the caveats in the documentation: https://pandas.pydata.org/pandas-docs/stable/user_guide/indexing.html#returning-a-view-versus-a-copy\n",
      "  train_comments['parent_text'] = train_comments['parent_text'].apply(text_to_array)\n",
      "/tmp/ipykernel_1079451/1422472211.py:3: SettingWithCopyWarning: \n",
      "A value is trying to be set on a copy of a slice from a DataFrame.\n",
      "Try using .loc[row_indexer,col_indexer] = value instead\n",
      "\n",
      "See the caveats in the documentation: https://pandas.pydata.org/pandas-docs/stable/user_guide/indexing.html#returning-a-view-versus-a-copy\n",
      "  test_comments['text'] = test_comments['text'].apply(text_to_array)\n",
      "/tmp/ipykernel_1079451/1422472211.py:4: SettingWithCopyWarning: \n",
      "A value is trying to be set on a copy of a slice from a DataFrame.\n",
      "Try using .loc[row_indexer,col_indexer] = value instead\n",
      "\n",
      "See the caveats in the documentation: https://pandas.pydata.org/pandas-docs/stable/user_guide/indexing.html#returning-a-view-versus-a-copy\n",
      "  test_comments['parent_text'] = test_comments['parent_text'].apply(text_to_array)\n"
     ]
    },
    {
     "data": {
      "text/html": [
       "<div>\n",
       "<style scoped>\n",
       "    .dataframe tbody tr th:only-of-type {\n",
       "        vertical-align: middle;\n",
       "    }\n",
       "\n",
       "    .dataframe tbody tr th {\n",
       "        vertical-align: top;\n",
       "    }\n",
       "\n",
       "    .dataframe thead th {\n",
       "        text-align: right;\n",
       "    }\n",
       "</style>\n",
       "<table border=\"1\" class=\"dataframe\">\n",
       "  <thead>\n",
       "    <tr style=\"text-align: right;\">\n",
       "      <th></th>\n",
       "      <th>text</th>\n",
       "      <th>score</th>\n",
       "      <th>parent_text</th>\n",
       "      <th>parent_score</th>\n",
       "      <th>polarity</th>\n",
       "    </tr>\n",
       "  </thead>\n",
       "  <tbody>\n",
       "    <tr>\n",
       "      <th>1137783</th>\n",
       "      <td>[28, 104, 1841, 3382, 132, 4, 302, 4, 33, 5, 7...</td>\n",
       "      <td>-0.020225</td>\n",
       "      <td>[98, 263, 8, 3, 166, 2, 4, 5542, 4, 181, 6, 51...</td>\n",
       "      <td>0.021646</td>\n",
       "      <td>0</td>\n",
       "    </tr>\n",
       "    <tr>\n",
       "      <th>1473056</th>\n",
       "      <td>[51, 161, 4, 23, 37, 4512, 1, 29, 19, 548, 43,...</td>\n",
       "      <td>-0.017978</td>\n",
       "      <td>[10, 53, 95, 71, 374, 1, 13, 117, 350, 3, 681,...</td>\n",
       "      <td>0.001640</td>\n",
       "      <td>0</td>\n",
       "    </tr>\n",
       "    <tr>\n",
       "      <th>1050839</th>\n",
       "      <td>[37, 201, 91, 3314, 59, 28, 349, 22, 3, 5014, ...</td>\n",
       "      <td>-0.022472</td>\n",
       "      <td>[12, 2955, 65, 31, 6361, 12, 11, 76, 1814, 4, ...</td>\n",
       "      <td>0.003280</td>\n",
       "      <td>0</td>\n",
       "    </tr>\n",
       "    <tr>\n",
       "      <th>1044193</th>\n",
       "      <td>[7, 32, 6992, 6030, 22, 21255, 2, 22, 7191, 56...</td>\n",
       "      <td>-0.022472</td>\n",
       "      <td>[6030, 11, 46, 5284, 1, 3, 8599, 13, 63, 11, 1...</td>\n",
       "      <td>0.003936</td>\n",
       "      <td>0</td>\n",
       "    </tr>\n",
       "    <tr>\n",
       "      <th>501409</th>\n",
       "      <td>[14, 18, 357, 4, 41, 1536, 214, 11, 200, 22, 1...</td>\n",
       "      <td>-0.033708</td>\n",
       "      <td>[647, 739, 3, 5263, 287, 43, 29, 830, 11, 121,...</td>\n",
       "      <td>0.013775</td>\n",
       "      <td>0</td>\n",
       "    </tr>\n",
       "    <tr>\n",
       "      <th>...</th>\n",
       "      <td>...</td>\n",
       "      <td>...</td>\n",
       "      <td>...</td>\n",
       "      <td>...</td>\n",
       "      <td>...</td>\n",
       "    </tr>\n",
       "    <tr>\n",
       "      <th>321467</th>\n",
       "      <td>[18, 11, 5, 102, 172, 6898, 681, 94, 3, 148, 6...</td>\n",
       "      <td>0.076120</td>\n",
       "      <td>[13, 3, 1282, 50, 37, 7, 279, 546, 7, 375, 4, ...</td>\n",
       "      <td>0.148968</td>\n",
       "      <td>1</td>\n",
       "    </tr>\n",
       "    <tr>\n",
       "      <th>1199825</th>\n",
       "      <td>[63, 11, 21, 7221, 8, 571, 13, 450, 1036, 1, 1...</td>\n",
       "      <td>-0.020225</td>\n",
       "      <td>[195, 41, 117, 11, 750, 1, 571, 7221, 170, 203...</td>\n",
       "      <td>0.001640</td>\n",
       "      <td>0</td>\n",
       "    </tr>\n",
       "    <tr>\n",
       "      <th>191500</th>\n",
       "      <td>[7, 79, 121, 15, 10, 812, 139, 2685, 104, 101,...</td>\n",
       "      <td>-0.058427</td>\n",
       "      <td>[18895, 39, 441, 239, 3, 2530, 11, 20, 3, 124,...</td>\n",
       "      <td>0.005576</td>\n",
       "      <td>0</td>\n",
       "    </tr>\n",
       "    <tr>\n",
       "      <th>1342494</th>\n",
       "      <td>[18, 11, 5, 395, 204, 238, 634, 1, 11538, 13, ...</td>\n",
       "      <td>0.025007</td>\n",
       "      <td>[38, 157, 7, 19, 33, 2, 14, 835, 11, 18, 1, 14...</td>\n",
       "      <td>0.028961</td>\n",
       "      <td>1</td>\n",
       "    </tr>\n",
       "    <tr>\n",
       "      <th>635512</th>\n",
       "      <td>[443, 168, 2, 7, 734, 1602, 21, 82, 149, 30, 9...</td>\n",
       "      <td>-0.031461</td>\n",
       "      <td>[500, 102, 13, 2, 7, 6952, 18, 19, 32, 5, 664,...</td>\n",
       "      <td>0.047885</td>\n",
       "      <td>0</td>\n",
       "    </tr>\n",
       "  </tbody>\n",
       "</table>\n",
       "<p>3195 rows × 5 columns</p>\n",
       "</div>"
      ],
      "text/plain": [
       "                                                      text     score  \\\n",
       "1137783  [28, 104, 1841, 3382, 132, 4, 302, 4, 33, 5, 7... -0.020225   \n",
       "1473056  [51, 161, 4, 23, 37, 4512, 1, 29, 19, 548, 43,... -0.017978   \n",
       "1050839  [37, 201, 91, 3314, 59, 28, 349, 22, 3, 5014, ... -0.022472   \n",
       "1044193  [7, 32, 6992, 6030, 22, 21255, 2, 22, 7191, 56... -0.022472   \n",
       "501409   [14, 18, 357, 4, 41, 1536, 214, 11, 200, 22, 1... -0.033708   \n",
       "...                                                    ...       ...   \n",
       "321467   [18, 11, 5, 102, 172, 6898, 681, 94, 3, 148, 6...  0.076120   \n",
       "1199825  [63, 11, 21, 7221, 8, 571, 13, 450, 1036, 1, 1... -0.020225   \n",
       "191500   [7, 79, 121, 15, 10, 812, 139, 2685, 104, 101,... -0.058427   \n",
       "1342494  [18, 11, 5, 395, 204, 238, 634, 1, 11538, 13, ...  0.025007   \n",
       "635512   [443, 168, 2, 7, 734, 1602, 21, 82, 149, 30, 9... -0.031461   \n",
       "\n",
       "                                               parent_text  parent_score  \\\n",
       "1137783  [98, 263, 8, 3, 166, 2, 4, 5542, 4, 181, 6, 51...      0.021646   \n",
       "1473056  [10, 53, 95, 71, 374, 1, 13, 117, 350, 3, 681,...      0.001640   \n",
       "1050839  [12, 2955, 65, 31, 6361, 12, 11, 76, 1814, 4, ...      0.003280   \n",
       "1044193  [6030, 11, 46, 5284, 1, 3, 8599, 13, 63, 11, 1...      0.003936   \n",
       "501409   [647, 739, 3, 5263, 287, 43, 29, 830, 11, 121,...      0.013775   \n",
       "...                                                    ...           ...   \n",
       "321467   [13, 3, 1282, 50, 37, 7, 279, 546, 7, 375, 4, ...      0.148968   \n",
       "1199825  [195, 41, 117, 11, 750, 1, 571, 7221, 170, 203...      0.001640   \n",
       "191500   [18895, 39, 441, 239, 3, 2530, 11, 20, 3, 124,...      0.005576   \n",
       "1342494  [38, 157, 7, 19, 33, 2, 14, 835, 11, 18, 1, 14...      0.028961   \n",
       "635512   [500, 102, 13, 2, 7, 6952, 18, 19, 32, 5, 664,...      0.047885   \n",
       "\n",
       "         polarity  \n",
       "1137783         0  \n",
       "1473056         0  \n",
       "1050839         0  \n",
       "1044193         0  \n",
       "501409          0  \n",
       "...           ...  \n",
       "321467          1  \n",
       "1199825         0  \n",
       "191500          0  \n",
       "1342494         1  \n",
       "635512          0  \n",
       "\n",
       "[3195 rows x 5 columns]"
      ]
     },
     "execution_count": 12,
     "metadata": {},
     "output_type": "execute_result"
    }
   ],
   "source": [
    "train_comments['text'] = train_comments['text'].apply(text_to_array)\n",
    "train_comments['parent_text'] = train_comments['parent_text'].apply(text_to_array)\n",
    "test_comments['text'] = test_comments['text'].apply(text_to_array)\n",
    "test_comments['parent_text'] = test_comments['parent_text'].apply(text_to_array)\n",
    "\n",
    "train_comments"
   ]
  },
  {
   "cell_type": "code",
   "execution_count": 13,
   "id": "ff48b65c",
   "metadata": {},
   "outputs": [],
   "source": [
    "def getXY(df):\n",
    "    XY = []\n",
    "    for i, row in df.iterrows():\n",
    "        text, score, parenttext, parentscore, polarity = row.to_list() \n",
    "        XY.append((text, score, polarity))\n",
    "    return XY\n",
    "        \n",
    "trainXY = getXY(train_comments)\n",
    "testXY = getXY(test_comments)"
   ]
  },
  {
   "cell_type": "markdown",
   "id": "7274b8be",
   "metadata": {},
   "source": [
    "#### Model"
   ]
  },
  {
   "cell_type": "code",
   "execution_count": 86,
   "id": "d61d3135",
   "metadata": {},
   "outputs": [],
   "source": [
    "import torch.nn as nn\n",
    "from torch.nn.utils.rnn import pack_padded_sequence, pad_packed_sequence\n",
    "\n",
    "class UpDownPredictor(nn.Module):\n",
    "    def __init__(self, vocabsize, embed_size=300, hidden_size=128):\n",
    "        super(UpDownPredictor, self).__init__()\n",
    "        \n",
    "        self.embed = nn.Embedding(vocabsize, embed_size, padding_idx=0) # vocab => embsize\n",
    "        \n",
    "        # TODO add dropout?\n",
    "        self.lstm = nn.LSTM(embed_size, hidden_size, dropout = 0.2, num_layers = 3,\n",
    "                           batch_first=True, bidirectional=True) # embsize => hidsize\n",
    "        \n",
    "        self.drop = nn.Dropout(p=0.5)\n",
    "        self.relu = nn.ReLU()\n",
    "        \n",
    "        self.fc = nn.Linear(2*hidden_size, 2) # 2xhidsize => 2\n",
    "        \n",
    "    def forward(self, x, xlen):\n",
    "        embedded = self.embed(x) \n",
    "        \n",
    "        packed = pack_padded_sequence(embedded, xlen, batch_first=True, enforce_sorted=False)\n",
    "        packedout, _ = self.lstm(packed)\n",
    "        output, _ = pad_packed_sequence(packedout, batch_first=True)\n",
    "        \n",
    "        output = self.relu(output)\n",
    "        \n",
    "        output = self.maxpool(output) # B,N,128=>B,N\n",
    "\n",
    "        output = self.fc(output) # B,N => B,2\n",
    "        \n",
    "        return output\n",
    "    \n",
    "    def maxpool(self, input_tensor):\n",
    "        indices = torch.argmax(input_tensor, dim=1)\n",
    "        output_tensor = torch.gather(input_tensor, dim=1, index=indices.unsqueeze(dim=1)).squeeze(dim=1)\n",
    "        return output_tensor\n",
    "\n"
   ]
  },
  {
   "cell_type": "markdown",
   "id": "dc2a4bad",
   "metadata": {},
   "source": [
    "#### Train and eval in each epoch"
   ]
  },
  {
   "cell_type": "code",
   "execution_count": 89,
   "id": "f10de7a1",
   "metadata": {},
   "outputs": [],
   "source": [
    "def get_accu_and_f1(collect_preds, collect_golds):\n",
    "    allpreds, allgolds = torch.cat(collect_preds).float(), torch.cat(collect_golds).float()\n",
    "\n",
    "    tp = sum(allgolds * allpreds)\n",
    "    fp = sum(allgolds * (~allpreds.bool()).float())\n",
    "    tn = sum((~allgolds.bool()).float() * (~allpreds.bool()).float())\n",
    "    fn = sum((~allgolds.bool()).float() * allpreds)\n",
    "\n",
    "    accuracy = (tp + tn) / (tp + fp + tn + fn)\n",
    "    recall = tp / (tp + fn)\n",
    "    precision = tp / (tp + fp)\n",
    "    f1 = (2 * recall * precision) / (recall + precision)\n",
    "    \n",
    "    return accuracy, f1\n",
    "\n",
    "import torch\n",
    "from torch.utils.data import DataLoader\n",
    "from torch.nn.utils.rnn import pad_sequence\n",
    "import torch.optim as optim\n",
    "\n",
    "def collate_batch(batch):\n",
    "    texts, scores, labels, lengths = [], [], [], []\n",
    "#     offsets = [0]\n",
    "    for text, score, label in batch:\n",
    "        labels.append(label)\n",
    "        scores.append(score)\n",
    "        lengths.append(len(text))\n",
    "        text_tensor = torch.tensor(text, dtype=torch.int64)\n",
    "        texts.append(text_tensor)\n",
    "#         offsets.append(text_tensor.size(0))\n",
    "        \n",
    "    labels = torch.tensor(labels, dtype=torch.int64)\n",
    "    scores = torch.tensor(scores)\n",
    "    lengths = torch.tensor(lengths)\n",
    "#     offsets = torch.tensor(offsets[:-1]).cumsum(dim=0)\n",
    "    \n",
    "    #pad to max len\n",
    "    texts = pad_sequence(texts, batch_first=True, padding_value=0)\n",
    "    return texts, scores, labels, lengths #, offsets\n",
    "\n",
    "\n",
    "# train => eval and save => plot accu/f1\n",
    "def train(model, epochs, trainXY, testXY, device, save_every=0, batch_size=50, lr=0.001):\n",
    "    \n",
    "    # Train/test batches\n",
    "    train_batches = DataLoader(trainXY, batch_size=batch_size, shuffle=True, collate_fn=collate_batch)\n",
    "    test_batches = DataLoader(testXY, batch_size=batch_size, collate_fn=collate_batch)\n",
    "    \n",
    "    # Models\n",
    "    model.to(device)\n",
    "    \n",
    "    # Loss funcs & optimizers\n",
    "    loss_fn = nn.CrossEntropyLoss(ignore_index=-1) # ignore sentence padding\n",
    "    optimizer = optim.Adam(model.parameters(), lr=lr)\n",
    "    \n",
    "    \n",
    "    # Each epoch: train models -> eval models, get accuracy and f1\n",
    "    all_accu, all_f1, all_losses, all_test_losses = [],[],[],[]\n",
    "    for e in range(epochs):\n",
    "        \n",
    "        # TRAIN\n",
    "        model.train()\n",
    "        total_loss = 0\n",
    "        for i, (x, _, y, xlen) in enumerate(train_batches):\n",
    "            x, y = x.to(device), y.to(device)\n",
    "            \n",
    "            optimizer.zero_grad()\n",
    "            \n",
    "            out = model(x, xlen) \n",
    "            targets = y\n",
    "            \n",
    "            loss = loss_fn(out, targets) \n",
    "            total_loss += loss.item()\n",
    "            \n",
    "            loss.backward()\n",
    "            optimizer.step()\n",
    "            \n",
    "            print(f\"Training epoch {e+1}: AvgLoss {total_loss/(i+1)}\", end='\\r')\n",
    "        \n",
    "        all_losses.append(total_loss) # total loss of current epoch\n",
    "        \n",
    "        if save_every!=0 and (e+1)%save_every==0:\n",
    "            torch.save(model, model_fn+f\"_epoch_{e+1}\") # save every n-th trained model \n",
    "        \n",
    "        # EVAL & TEST\n",
    "        model.eval()\n",
    "        total_test_loss = 0\n",
    "        with torch.no_grad():\n",
    "            \n",
    "            collect_preds = []\n",
    "            collect_golds = []\n",
    "            \n",
    "            for i, (x, _, y, xlen,) in enumerate(test_batches):\n",
    "                x, y = x.to(device), y.to(device)\n",
    "                \n",
    "                # Model predictions \n",
    "                preds = model(x, xlen)\n",
    "                \n",
    "                binary_preds = preds.argmax(1)\n",
    "                targets = y\n",
    "                \n",
    "                collect_preds.append(binary_preds) \n",
    "                collect_golds.append(targets)\n",
    "                \n",
    "                \n",
    "                loss = loss_fn(preds, targets) \n",
    "                total_test_loss += loss.item()\n",
    "                \n",
    "                print(f\"Evaluating epoch {e+1}: AvgLoss {total_test_loss/(i+1)}\", end='\\r')\n",
    "                    \n",
    "        all_test_losses.append(total_test_loss) # total test loss of current epoch\n",
    "        \n",
    "        # Compare predictions of models with golds\n",
    "        accuracy, f1 = get_accu_and_f1(collect_preds, collect_golds)\n",
    "        # Result of current epoch\n",
    "        all_accu.append(accuracy.item())\n",
    "        all_f1.append(f1.item())\n",
    "        \n",
    "    torch.save(model, model_fn+f\"_epoch_{e+1}\") # save final trained model\n",
    "    stats = (all_losses, all_test_losses, all_accu, all_f1)\n",
    "\n",
    "    return model, stats"
   ]
  },
  {
   "cell_type": "code",
   "execution_count": 90,
   "id": "f1993191",
   "metadata": {},
   "outputs": [
    {
     "name": "stdout",
     "output_type": "stream",
     "text": [
      "Evaluating epoch 50: AvgLoss 3.931187227368355595\r"
     ]
    }
   ],
   "source": [
    "model_init = UpDownPredictor(len(vocab))\n",
    "\n",
    "model, stats = train(model_init, 50, trainXY, testXY, 'cuda:3')"
   ]
  },
  {
   "cell_type": "markdown",
   "id": "f7e4118f",
   "metadata": {},
   "source": [
    "#### Evaluating performance"
   ]
  },
  {
   "cell_type": "code",
   "execution_count": 97,
   "id": "0c73c2a0",
   "metadata": {},
   "outputs": [],
   "source": [
    "import matplotlib.pyplot as plt\n",
    "\n",
    "def plot_line_chart(stats):\n",
    "    # Draw the line chart\n",
    "    n_epochs = len(stats[0])\n",
    "    the_epochs = list(range(1,n_epochs+1))    \n",
    "\n",
    "    # lines\n",
    "    train_loss, test_loss, accu, f1 = stats\n",
    "    \n",
    "    for i in range(2):\n",
    "        if i==0:\n",
    "            plt.plot(the_epochs, train_loss, label='training loss')\n",
    "            plt.plot(the_epochs, test_loss, label='testing loss')\n",
    "            \n",
    "            plt.title('Losses over iterations')\n",
    "            plt.xlabel('epoch')\n",
    "            plt.legend()\n",
    "            plt.show()\n",
    "        else:\n",
    "            plt.plot(the_epochs, accu, label='accuracy')\n",
    "            plt.plot(the_epochs, f1, label='f1')\n",
    "\n",
    "\n",
    "            plt.title('Accuracy/F1 over iterations')\n",
    "            plt.xlabel('epoch')\n",
    "            plt.legend()\n",
    "            plt.show()"
   ]
  },
  {
   "cell_type": "code",
   "execution_count": 98,
   "id": "e03fad8f",
   "metadata": {},
   "outputs": [
    {
     "data": {
      "image/png": "[encoded data removed]",
      "text/plain": [
       "<Figure size 432x288 with 1 Axes>"
      ]
     },
     "metadata": {
      "needs_background": "light"
     },
     "output_type": "display_data"
    },
    {
     "data": {
      "image/png": "[encoded data removed]",
      "text/plain": [
       "<Figure size 432x288 with 1 Axes>"
      ]
     },
     "metadata": {
      "needs_background": "light"
     },
     "output_type": "display_data"
    }
   ],
   "source": [
    "plot_line_chart(stats)"
   ]
  },
  {
   "cell_type": "code",
   "execution_count": null,
   "id": "aa962bcc",
   "metadata": {},
   "outputs": [],
   "source": []
  }
 ],
 "metadata": {
  "kernelspec": {
   "display_name": "Python 3 (ipykernel)",
   "language": "python",
   "name": "python3"
  },
  "language_info": {
   "codemirror_mode": {
    "name": "ipython",
    "version": 3
   },
   "file_extension": ".py",
   "mimetype": "text/x-python",
   "name": "python",
   "nbconvert_exporter": "python",
   "pygments_lexer": "ipython3",
   "version": "3.9.6"
  }
 },
 "nbformat": 4,
 "nbformat_minor": 5
}

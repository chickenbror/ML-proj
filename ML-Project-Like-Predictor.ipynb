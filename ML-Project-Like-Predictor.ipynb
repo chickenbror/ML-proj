{
 "cells": [
  {
   "cell_type": "markdown",
   "id": "3f574af6",
   "metadata": {},
   "source": [
    "### LT2326 HT21 Project\n",
    "##### Calvin Kullvén Liao\n"
   ]
  },
  {
   "cell_type": "markdown",
   "id": "8ef5b64e",
   "metadata": {},
   "source": [
    "#### Part 01 Dataset and preprocessing"
   ]
  },
  {
   "cell_type": "code",
   "execution_count": 1,
   "id": "468e7de7",
   "metadata": {},
   "outputs": [],
   "source": [
    "import pandas as pd"
   ]
  },
  {
   "cell_type": "code",
   "execution_count": 2,
   "id": "ba80c7ea",
   "metadata": {},
   "outputs": [],
   "source": [
    "# The original dataset are very large which takes long to process, so I only sample a small part\n",
    "pos_comments = pd.read_csv('data/comments_positive.csv').sample(2000)\n",
    "neg_comments = pd.read_csv('data/comments_negative.csv').sample(2000)"
   ]
  },
  {
   "cell_type": "markdown",
   "id": "3c4c3bea",
   "metadata": {},
   "source": [
    "It appears that the upvotes/downvotes are concentrated, with extremely high/low score being a rarity. But upvotes have a wider range (with scores under 500 being more common) than downvotes (scores below -100 are rare).\n",
    "\n",
    "One way to preprocess this may be excluding the very high/low scores and only keep the ones within the common score range. Or see it as a pos vs neg binary classification."
   ]
  },
  {
   "cell_type": "code",
   "execution_count": 4,
   "id": "515f9d87",
   "metadata": {},
   "outputs": [
    {
     "data": {
      "text/plain": [
       "<matplotlib.axes._subplots.AxesSubplot at 0x7f0960e8c1c0>"
      ]
     },
     "execution_count": 4,
     "metadata": {},
     "output_type": "execute_result"
    },
    {
     "data": {
      "image/png": "[encoded data removed]",
      "text/plain": [
       "<Figure size 432x288 with 1 Axes>"
      ]
     },
     "metadata": {
      "needs_background": "light"
     },
     "output_type": "display_data"
    }
   ],
   "source": [
    "pos_comments['score'].plot.hist(bins=200)"
   ]
  },
  {
   "cell_type": "code",
   "execution_count": 4,
   "id": "fa55fcdf",
   "metadata": {},
   "outputs": [
    {
     "data": {
      "text/plain": [
       "<matplotlib.axes._subplots.AxesSubplot at 0x7f010d124880>"
      ]
     },
     "execution_count": 4,
     "metadata": {},
     "output_type": "execute_result"
    },
    {
     "data": {
      "image/png": "[encoded data removed]",
      "text/plain": [
       "<Figure size 432x288 with 1 Axes>"
      ]
     },
     "metadata": {
      "needs_background": "light"
     },
     "output_type": "display_data"
    }
   ],
   "source": [
    "neg_comments['score'].plot.hist(bins=200)"
   ]
  },
  {
   "cell_type": "code",
   "execution_count": 5,
   "id": "77a3225b",
   "metadata": {},
   "outputs": [],
   "source": [
    "# Simple binary classes instead of the plus/minus scores\n",
    "pos_comments['polarity'] = 1\n",
    "neg_comments['polarity'] = 0\n",
    "\n",
    "# Normalize the scores to 0~1 or 0~-1\n",
    "pos_comments['score'] = pos_comments['score'].transform(lambda x: x / abs(x).max())\n",
    "neg_comments['score'] = neg_comments['score'].transform(lambda x: x / abs(x).max())\n",
    "\n",
    "pos_comments['parent_score'] = pos_comments['parent_score'].transform(lambda x: x / abs(x).max())\n",
    "neg_comments['parent_score'] = neg_comments['parent_score'].transform(lambda x: x / abs(x).max())"
   ]
  },
  {
   "cell_type": "code",
   "execution_count": 6,
   "id": "8b207a66",
   "metadata": {},
   "outputs": [
    {
     "data": {
      "text/html": [
       "<div>\n",
       "<style scoped>\n",
       "    .dataframe tbody tr th:only-of-type {\n",
       "        vertical-align: middle;\n",
       "    }\n",
       "\n",
       "    .dataframe tbody tr th {\n",
       "        vertical-align: top;\n",
       "    }\n",
       "\n",
       "    .dataframe thead th {\n",
       "        text-align: right;\n",
       "    }\n",
       "</style>\n",
       "<table border=\"1\" class=\"dataframe\">\n",
       "  <thead>\n",
       "    <tr style=\"text-align: right;\">\n",
       "      <th></th>\n",
       "      <th>text</th>\n",
       "      <th>score</th>\n",
       "      <th>parent_text</th>\n",
       "      <th>parent_score</th>\n",
       "      <th>polarity</th>\n",
       "    </tr>\n",
       "  </thead>\n",
       "  <tbody>\n",
       "    <tr>\n",
       "      <th>379362</th>\n",
       "      <td>I DONT give a shit about my Grammar</td>\n",
       "      <td>-0.078947</td>\n",
       "      <td>It COULD *have* been.</td>\n",
       "      <td>0.016399</td>\n",
       "      <td>0</td>\n",
       "    </tr>\n",
       "    <tr>\n",
       "      <th>1630136</th>\n",
       "      <td>Anyone who makes blanket statements about who ...</td>\n",
       "      <td>-0.030702</td>\n",
       "      <td>Anyone who doesn't vaccinate their child is an...</td>\n",
       "      <td>0.020044</td>\n",
       "      <td>0</td>\n",
       "    </tr>\n",
       "    <tr>\n",
       "      <th>1685952</th>\n",
       "      <td>I can think of better ways of showing them off...</td>\n",
       "      <td>-0.030702</td>\n",
       "      <td>That guy has really nice legs. I say if you go...</td>\n",
       "      <td>0.002915</td>\n",
       "      <td>0</td>\n",
       "    </tr>\n",
       "    <tr>\n",
       "      <th>1276304</th>\n",
       "      <td>The message is clear, if you buy DVDs, you are...</td>\n",
       "      <td>0.022078</td>\n",
       "      <td>Also the people with the DVD are sitting in a ...</td>\n",
       "      <td>0.068229</td>\n",
       "      <td>1</td>\n",
       "    </tr>\n",
       "    <tr>\n",
       "      <th>477032</th>\n",
       "      <td>Yup, from a quick search\\n\\n\"It is not an acci...</td>\n",
       "      <td>-0.070175</td>\n",
       "      <td>OMG you must be an anti-Semite!</td>\n",
       "      <td>0.043003</td>\n",
       "      <td>0</td>\n",
       "    </tr>\n",
       "  </tbody>\n",
       "</table>\n",
       "</div>"
      ],
      "text/plain": [
       "                                                      text     score  \\\n",
       "379362                I DONT give a shit about my Grammar  -0.078947   \n",
       "1630136  Anyone who makes blanket statements about who ... -0.030702   \n",
       "1685952  I can think of better ways of showing them off... -0.030702   \n",
       "1276304  The message is clear, if you buy DVDs, you are...  0.022078   \n",
       "477032   Yup, from a quick search\\n\\n\"It is not an acci... -0.070175   \n",
       "\n",
       "                                               parent_text  parent_score  \\\n",
       "379362                               It COULD *have* been.      0.016399   \n",
       "1630136  Anyone who doesn't vaccinate their child is an...      0.020044   \n",
       "1685952  That guy has really nice legs. I say if you go...      0.002915   \n",
       "1276304  Also the people with the DVD are sitting in a ...      0.068229   \n",
       "477032                    OMG you must be an anti-Semite!       0.043003   \n",
       "\n",
       "         polarity  \n",
       "379362          0  \n",
       "1630136         0  \n",
       "1685952         0  \n",
       "1276304         1  \n",
       "477032          0  "
      ]
     },
     "execution_count": 6,
     "metadata": {},
     "output_type": "execute_result"
    }
   ],
   "source": [
    "comments = pd.concat([pos_comments, neg_comments])\n",
    "\n",
    "# There are duplicate columns, eg, 'ups' and 'score' are the same thing.\n",
    "repeated = ['ups', 'parent_ups']\n",
    "# Also dropping non-relevant columns\n",
    "others = ['id', 'parent_id', 'subreddit_id', 'link_id', 'author', 'parent_link_id', \n",
    "          'parent_author', 'controversiality', 'parent_controversiality']\n",
    "drop_these = lambda df:df.drop(columns=repeated+others) \n",
    "\n",
    "# Some texts are non-strings, or are only URLs\n",
    "filter_str = lambda df:df[df['text'].apply(lambda x: isinstance(x, str))]\n",
    "exclude_jpg = lambda df:df[~df['text'].str.contains(\"https://\")]\n",
    "                      \n",
    "comments = exclude_jpg(filter_str(drop_these(comments)))\n",
    "comments.sample(5)"
   ]
  },
  {
   "cell_type": "markdown",
   "id": "d39c03f1",
   "metadata": {},
   "source": [
    "#### Build the tokek-to-integer mapping"
   ]
  },
  {
   "cell_type": "code",
   "execution_count": 7,
   "id": "bae6b5b2",
   "metadata": {},
   "outputs": [],
   "source": [
    "# from string import punctuation\n",
    "# from nltk import pos_tag\n",
    "from nltk.corpus import stopwords\n",
    "from nltk.tokenize import TweetTokenizer\n",
    "from nltk.stem import WordNetLemmatizer\n",
    "stop_words = set(stopwords.words('english')) \n",
    "\n",
    "def clean_text(text, lemmatize=False , clean_punc=False, clean_stopwords=False):\n",
    "    \n",
    "    text = str(text) # in case of non-string values\n",
    "    text = text.lower()\n",
    "    text = TweetTokenizer().tokenize(text) # => list of tokens\n",
    "    \n",
    "    if lemmatize:\n",
    "        text = [WordNetLemmatizer().lemmatize(token) for token in text]\n",
    "\n",
    "    if clean_punc:\n",
    "        text = [token for token in text if token not in punctuation]\n",
    "    if clean_stopwords:\n",
    "        text = [token for token in text if token not in stop_words]\n",
    "    \n",
    "    return text\n",
    "\n",
    "def df_to_generator(df):\n",
    "    df = df.dropna()\n",
    "    for i, row in df.iterrows():\n",
    "        columns = row.to_list() # text, score, parenttext, parentscore, polarity\n",
    "        yield columns\n",
    "        \n",
    "comments_iter = df_to_generator(comments)"
   ]
  },
  {
   "cell_type": "code",
   "execution_count": 8,
   "id": "b41920d5",
   "metadata": {},
   "outputs": [],
   "source": [
    "from torchtext.vocab import build_vocab_from_iterator\n",
    "\n",
    "def yield_tokens(comments_iter):\n",
    "    for text, _, parenttext, _, _ in comments_iter: # text, score, parenttext, parentscore, polarity\n",
    "        yield clean_text(text)+clean_text(parenttext)\n",
    "\n",
    "vocab = build_vocab_from_iterator(yield_tokens(comments_iter), specials=[\"<pad>\"])\n",
    "vocab.set_default_index(vocab[\"<pad>\"])"
   ]
  },
  {
   "cell_type": "markdown",
   "id": "ab1a14ec",
   "metadata": {},
   "source": [
    "#### Shuffle and split to train/test"
   ]
  },
  {
   "cell_type": "code",
   "execution_count": 9,
   "id": "3a3780ee",
   "metadata": {},
   "outputs": [],
   "source": [
    "# Shuffle and split to train/test\n",
    "from sklearn.model_selection import train_test_split\n",
    "train_comments, test_comments = train_test_split(comments, test_size=0.2)"
   ]
  },
  {
   "cell_type": "markdown",
   "id": "b2e13b68",
   "metadata": {},
   "source": [
    "#### Turn the text into arrays"
   ]
  },
  {
   "cell_type": "code",
   "execution_count": 10,
   "id": "70d527ec",
   "metadata": {},
   "outputs": [],
   "source": [
    "import numpy as np\n",
    "text_to_ids = lambda text: vocab(clean_text(text))\n",
    "text_to_array = lambda text: np.array(text_to_ids(text))"
   ]
  },
  {
   "cell_type": "code",
   "execution_count": 11,
   "id": "7b16109d",
   "metadata": {},
   "outputs": [
    {
     "name": "stderr",
     "output_type": "stream",
     "text": [
      "/tmp/ipykernel_1108758/1422472211.py:1: SettingWithCopyWarning: \n",
      "A value is trying to be set on a copy of a slice from a DataFrame.\n",
      "Try using .loc[row_indexer,col_indexer] = value instead\n",
      "\n",
      "See the caveats in the documentation: https://pandas.pydata.org/pandas-docs/stable/user_guide/indexing.html#returning-a-view-versus-a-copy\n",
      "  train_comments['text'] = train_comments['text'].apply(text_to_array)\n",
      "/tmp/ipykernel_1108758/1422472211.py:2: SettingWithCopyWarning: \n",
      "A value is trying to be set on a copy of a slice from a DataFrame.\n",
      "Try using .loc[row_indexer,col_indexer] = value instead\n",
      "\n",
      "See the caveats in the documentation: https://pandas.pydata.org/pandas-docs/stable/user_guide/indexing.html#returning-a-view-versus-a-copy\n",
      "  train_comments['parent_text'] = train_comments['parent_text'].apply(text_to_array)\n",
      "/tmp/ipykernel_1108758/1422472211.py:3: SettingWithCopyWarning: \n",
      "A value is trying to be set on a copy of a slice from a DataFrame.\n",
      "Try using .loc[row_indexer,col_indexer] = value instead\n",
      "\n",
      "See the caveats in the documentation: https://pandas.pydata.org/pandas-docs/stable/user_guide/indexing.html#returning-a-view-versus-a-copy\n",
      "  test_comments['text'] = test_comments['text'].apply(text_to_array)\n",
      "/tmp/ipykernel_1108758/1422472211.py:4: SettingWithCopyWarning: \n",
      "A value is trying to be set on a copy of a slice from a DataFrame.\n",
      "Try using .loc[row_indexer,col_indexer] = value instead\n",
      "\n",
      "See the caveats in the documentation: https://pandas.pydata.org/pandas-docs/stable/user_guide/indexing.html#returning-a-view-versus-a-copy\n",
      "  test_comments['parent_text'] = test_comments['parent_text'].apply(text_to_array)\n"
     ]
    },
    {
     "data": {
      "text/html": [
       "<div>\n",
       "<style scoped>\n",
       "    .dataframe tbody tr th:only-of-type {\n",
       "        vertical-align: middle;\n",
       "    }\n",
       "\n",
       "    .dataframe tbody tr th {\n",
       "        vertical-align: top;\n",
       "    }\n",
       "\n",
       "    .dataframe thead th {\n",
       "        text-align: right;\n",
       "    }\n",
       "</style>\n",
       "<table border=\"1\" class=\"dataframe\">\n",
       "  <thead>\n",
       "    <tr style=\"text-align: right;\">\n",
       "      <th></th>\n",
       "      <th>text</th>\n",
       "      <th>score</th>\n",
       "      <th>parent_text</th>\n",
       "      <th>parent_score</th>\n",
       "      <th>polarity</th>\n",
       "    </tr>\n",
       "  </thead>\n",
       "  <tbody>\n",
       "    <tr>\n",
       "      <th>1483559</th>\n",
       "      <td>[7, 153, 13084, 10, 150, 405, 55, 8, 139, 1277...</td>\n",
       "      <td>-0.035088</td>\n",
       "      <td>[58, 9247, 10, 28, 76, 1277, 3120, 1541, 13, 2...</td>\n",
       "      <td>0.005466</td>\n",
       "      <td>0</td>\n",
       "    </tr>\n",
       "    <tr>\n",
       "      <th>1446222</th>\n",
       "      <td>[53, 53, 3, 140, 9, 1]</td>\n",
       "      <td>-0.035088</td>\n",
       "      <td>[14, 2776, 16073, 16262, 14, 312, 3, 140, 9, 1]</td>\n",
       "      <td>0.004373</td>\n",
       "      <td>0</td>\n",
       "    </tr>\n",
       "    <tr>\n",
       "      <th>1184821</th>\n",
       "      <td>[121, 40, 924, 20, 4, 311, 62, 143, 441, 311, ...</td>\n",
       "      <td>-0.039474</td>\n",
       "      <td>[328, 20, 1310, 3, 328, 32, 6612, 1, 54, 46, 3...</td>\n",
       "      <td>0.036079</td>\n",
       "      <td>0</td>\n",
       "    </tr>\n",
       "    <tr>\n",
       "      <th>322484</th>\n",
       "      <td>[53, 12, 14502, 39, 11854]</td>\n",
       "      <td>-0.087719</td>\n",
       "      <td>[7, 71, 12, 19, 18307, 227]</td>\n",
       "      <td>0.005831</td>\n",
       "      <td>0</td>\n",
       "    </tr>\n",
       "    <tr>\n",
       "      <th>770506</th>\n",
       "      <td>[7, 51, 403, 16, 47, 549, 8, 146, 4, 97, 12, 1...</td>\n",
       "      <td>0.033233</td>\n",
       "      <td>[270, 403, 1632, 4, 406, 17, 501, 282, 1]</td>\n",
       "      <td>0.023435</td>\n",
       "      <td>1</td>\n",
       "    </tr>\n",
       "    <tr>\n",
       "      <th>...</th>\n",
       "      <td>...</td>\n",
       "      <td>...</td>\n",
       "      <td>...</td>\n",
       "      <td>...</td>\n",
       "      <td>...</td>\n",
       "    </tr>\n",
       "    <tr>\n",
       "      <th>1360630</th>\n",
       "      <td>[2914, 247, 7, 1272, 10, 522]</td>\n",
       "      <td>-0.035088</td>\n",
       "      <td>[2, 4290, 234, 10, 9, 288, 12, 10, 1421, 39, 9...</td>\n",
       "      <td>0.295190</td>\n",
       "      <td>0</td>\n",
       "    </tr>\n",
       "    <tr>\n",
       "      <th>11974</th>\n",
       "      <td>[1143, 25, 18747, 75, 3085, 1]</td>\n",
       "      <td>0.379503</td>\n",
       "      <td>[269, 30, 86, 1272, 696, 1]</td>\n",
       "      <td>0.134233</td>\n",
       "      <td>1</td>\n",
       "    </tr>\n",
       "    <tr>\n",
       "      <th>501983</th>\n",
       "      <td>[7, 59, 284, 4280, 77, 253, 12170, 6, 19215, 1...</td>\n",
       "      <td>-0.065789</td>\n",
       "      <td>[15446, 15, 44, 103, 28, 2742, 3751, 50, 430, ...</td>\n",
       "      <td>0.005831</td>\n",
       "      <td>0</td>\n",
       "    </tr>\n",
       "    <tr>\n",
       "      <th>1191484</th>\n",
       "      <td>[7, 78, 26, 12, 220, 67, 178, 2588, 93, 28, 12...</td>\n",
       "      <td>0.023472</td>\n",
       "      <td>[32, 346, 42, 2, 14, 2909, 4438, 14, 4485, 51,...</td>\n",
       "      <td>0.014684</td>\n",
       "      <td>1</td>\n",
       "    </tr>\n",
       "    <tr>\n",
       "      <th>608336</th>\n",
       "      <td>[7, 533, 2, 11469, 6218, 6954, 1113, 62, 7, 28...</td>\n",
       "      <td>0.039972</td>\n",
       "      <td>[27, 455, 11, 5, 2427, 7569, 658, 6, 81, 5, 20...</td>\n",
       "      <td>0.123257</td>\n",
       "      <td>1</td>\n",
       "    </tr>\n",
       "  </tbody>\n",
       "</table>\n",
       "<p>3190 rows × 5 columns</p>\n",
       "</div>"
      ],
      "text/plain": [
       "                                                      text     score  \\\n",
       "1483559  [7, 153, 13084, 10, 150, 405, 55, 8, 139, 1277... -0.035088   \n",
       "1446222                             [53, 53, 3, 140, 9, 1] -0.035088   \n",
       "1184821  [121, 40, 924, 20, 4, 311, 62, 143, 441, 311, ... -0.039474   \n",
       "322484                          [53, 12, 14502, 39, 11854] -0.087719   \n",
       "770506   [7, 51, 403, 16, 47, 549, 8, 146, 4, 97, 12, 1...  0.033233   \n",
       "...                                                    ...       ...   \n",
       "1360630                      [2914, 247, 7, 1272, 10, 522] -0.035088   \n",
       "11974                       [1143, 25, 18747, 75, 3085, 1]  0.379503   \n",
       "501983   [7, 59, 284, 4280, 77, 253, 12170, 6, 19215, 1... -0.065789   \n",
       "1191484  [7, 78, 26, 12, 220, 67, 178, 2588, 93, 28, 12...  0.023472   \n",
       "608336   [7, 533, 2, 11469, 6218, 6954, 1113, 62, 7, 28...  0.039972   \n",
       "\n",
       "                                               parent_text  parent_score  \\\n",
       "1483559  [58, 9247, 10, 28, 76, 1277, 3120, 1541, 13, 2...      0.005466   \n",
       "1446222    [14, 2776, 16073, 16262, 14, 312, 3, 140, 9, 1]      0.004373   \n",
       "1184821  [328, 20, 1310, 3, 328, 32, 6612, 1, 54, 46, 3...      0.036079   \n",
       "322484                         [7, 71, 12, 19, 18307, 227]      0.005831   \n",
       "770506           [270, 403, 1632, 4, 406, 17, 501, 282, 1]      0.023435   \n",
       "...                                                    ...           ...   \n",
       "1360630  [2, 4290, 234, 10, 9, 288, 12, 10, 1421, 39, 9...      0.295190   \n",
       "11974                          [269, 30, 86, 1272, 696, 1]      0.134233   \n",
       "501983   [15446, 15, 44, 103, 28, 2742, 3751, 50, 430, ...      0.005831   \n",
       "1191484  [32, 346, 42, 2, 14, 2909, 4438, 14, 4485, 51,...      0.014684   \n",
       "608336   [27, 455, 11, 5, 2427, 7569, 658, 6, 81, 5, 20...      0.123257   \n",
       "\n",
       "         polarity  \n",
       "1483559         0  \n",
       "1446222         0  \n",
       "1184821         0  \n",
       "322484          0  \n",
       "770506          1  \n",
       "...           ...  \n",
       "1360630         0  \n",
       "11974           1  \n",
       "501983          0  \n",
       "1191484         1  \n",
       "608336          1  \n",
       "\n",
       "[3190 rows x 5 columns]"
      ]
     },
     "execution_count": 11,
     "metadata": {},
     "output_type": "execute_result"
    }
   ],
   "source": [
    "train_comments['text'] = train_comments['text'].apply(text_to_array)\n",
    "train_comments['parent_text'] = train_comments['parent_text'].apply(text_to_array)\n",
    "test_comments['text'] = test_comments['text'].apply(text_to_array)\n",
    "test_comments['parent_text'] = test_comments['parent_text'].apply(text_to_array)\n",
    "\n",
    "train_comments"
   ]
  },
  {
   "cell_type": "markdown",
   "id": "11c0ec23",
   "metadata": {},
   "source": [
    "#### Turn the dataframe rows into a list of tuples so they can be batch-loaded"
   ]
  },
  {
   "cell_type": "code",
   "execution_count": 12,
   "id": "5fd05e53",
   "metadata": {},
   "outputs": [],
   "source": [
    "def getXY(df):\n",
    "    XY = []\n",
    "    for i, row in df.iterrows():\n",
    "        text, score, parenttext, parentscore, polarity = row.to_list() \n",
    "        XY.append((text, score, polarity))\n",
    "    return XY\n",
    "        \n",
    "trainXY = getXY(train_comments)\n",
    "testXY = getXY(test_comments)"
   ]
  },
  {
   "cell_type": "markdown",
   "id": "4204a283",
   "metadata": {},
   "source": [
    "#### Model"
   ]
  },
  {
   "cell_type": "code",
   "execution_count": 139,
   "id": "e4cece46",
   "metadata": {},
   "outputs": [],
   "source": [
    "import torch.nn as nn\n",
    "from torch.nn.utils.rnn import pack_padded_sequence, pad_packed_sequence\n",
    "\n",
    "class UpDownPredictor(nn.Module):\n",
    "    def __init__(self, vocabsize, device, embed_size=300, hidden_size=128):\n",
    "        super(UpDownPredictor, self).__init__()\n",
    "        \n",
    "        self.device = device\n",
    "        self.embed = nn.Embedding(vocabsize, embed_size, padding_idx=0) # vocab => embsize\n",
    "        \n",
    "        self.lstm = nn.LSTM(embed_size, hidden_size, dropout = 0.2, num_layers = 2,\n",
    "                           batch_first=True, bidirectional=True) # embsize => hidsize\n",
    "        \n",
    "        self.drop = nn.Dropout(p=0.2)\n",
    "        self.relu = nn.ReLU()\n",
    "        self.sig = nn.Sigmoid()\n",
    "#         self.fc = nn.Linear(2*hidden_size, 64) # 2xhidsize => 64\n",
    "        self.classify2 = nn.Linear(2*hidden_size, 2)\n",
    "        \n",
    "    def forward(self, x, xlen):\n",
    "        \n",
    "        embedded = self.embed(x) \n",
    "        \n",
    "        packed = pack_padded_sequence(embedded, xlen, batch_first=True, enforce_sorted=False)\n",
    "        packedout, _ = self.lstm(packed)\n",
    "        output, _ = pad_packed_sequence(packedout, batch_first=True)\n",
    "        \n",
    "\n",
    "#         output = self.fc(output) # B,256 => B,64\n",
    "        output = self.maxpool(output)\n",
    "        output = self.relu(output)\n",
    "#         output = self.sig(output)\n",
    "        \n",
    "        output = self.drop(output)\n",
    "        output = self.relu(output)\n",
    "        output = self.classify2(output)\n",
    "        \n",
    "        return output\n",
    "\n",
    "    def classify(self, tensor): # flatten (Token x Hidden) and linearize to 2\n",
    "        if len(tensor.shape)==3:\n",
    "            B,N,H = tensor.shape\n",
    "        elif len(tensor.shape)==2:\n",
    "            B,N = tensor.shape\n",
    "            H = 1\n",
    "        tensor = tensor.reshape(B, N*H)\n",
    "        lin = nn.Linear(N*H, 2).to(self.device)\n",
    "        tensor = lin(tensor)\n",
    "        return tensor\n",
    "    \n",
    "    def maxpool(self, tensor, dim=1):\n",
    "        indices = torch.argmax(tensor, dim)\n",
    "        output_tensor = torch.gather(tensor, dim, index=indices.unsqueeze(dim)).squeeze(dim)\n",
    "        return output_tensor"
   ]
  },
  {
   "cell_type": "markdown",
   "id": "afd936eb",
   "metadata": {},
   "source": [
    "#### Train and eval in each epoch"
   ]
  },
  {
   "cell_type": "code",
   "execution_count": 37,
   "id": "e5a72319",
   "metadata": {},
   "outputs": [],
   "source": [
    "def get_accu_and_f1(collect_preds, collect_golds):\n",
    "    allpreds, allgolds = torch.cat(collect_preds).float(), torch.cat(collect_golds).float()\n",
    "\n",
    "    tp = sum(allgolds * allpreds)\n",
    "    fp = sum(allgolds * (~allpreds.bool()).float())\n",
    "    tn = sum((~allgolds.bool()).float() * (~allpreds.bool()).float())\n",
    "    fn = sum((~allgolds.bool()).float() * allpreds)\n",
    "\n",
    "    accuracy = (tp + tn) / (tp + fp + tn + fn)\n",
    "    recall = tp / (tp + fn)\n",
    "    precision = tp / (tp + fp)\n",
    "    f1 = (2 * recall * precision) / (recall + precision)\n",
    "    \n",
    "    return accuracy, f1\n",
    "\n",
    "import torch\n",
    "from torch.utils.data import DataLoader\n",
    "from torch.nn.utils.rnn import pad_sequence\n",
    "import torch.optim as optim\n",
    "\n",
    "def collate_batch(batch):\n",
    "    texts, scores, labels, lengths = [], [], [], []\n",
    "#     offsets = [0]\n",
    "    for text, score, label in batch:\n",
    "        labels.append(label)\n",
    "        scores.append(score)\n",
    "        lengths.append(len(text))\n",
    "        text_tensor = torch.tensor(text, dtype=torch.int64)\n",
    "        texts.append(text_tensor)\n",
    "#         offsets.append(text_tensor.size(0))\n",
    "        \n",
    "    labels = torch.tensor(labels, dtype=torch.int64)\n",
    "    scores = torch.tensor(scores)\n",
    "    lengths = torch.tensor(lengths)\n",
    "#     offsets = torch.tensor(offsets[:-1]).cumsum(dim=0)\n",
    "    \n",
    "    #pad to max len\n",
    "    texts = pad_sequence(texts, batch_first=True, padding_value=0)\n",
    "    return texts, scores, labels, lengths #, offsets\n",
    "\n",
    "\n",
    "# train => eval and save => plot accu/f1\n",
    "def train(model, epochs, trainXY, testXY, model_fn, device, save_every=0, batch_size=100, lr=0.005):\n",
    "    \n",
    "    # Train/test batches\n",
    "    train_batches = DataLoader(trainXY, batch_size=batch_size, shuffle=True, collate_fn=collate_batch)\n",
    "    test_batches = DataLoader(testXY, batch_size=batch_size, shuffle=True, collate_fn=collate_batch)\n",
    "    \n",
    "    # Models\n",
    "    model.to(device)\n",
    "    \n",
    "    # Loss funcs & optimizers\n",
    "    loss_fn = nn.CrossEntropyLoss(ignore_index=-1) # ignore sentence padding\n",
    "    optimizer = optim.Adam(model.parameters(), lr=lr)\n",
    "    \n",
    "    \n",
    "    # Each epoch: train models -> eval models, get accuracy and f1\n",
    "    all_accu, all_f1, all_losses, all_test_losses = [],[],[],[]\n",
    "    for e in range(epochs):\n",
    "        \n",
    "        # TRAIN\n",
    "        model.train()\n",
    "        total_loss = 0\n",
    "        for i, (x, _, y, xlen) in enumerate(train_batches):\n",
    "            x, y = x.to(device), y.to(device)\n",
    "            \n",
    "            optimizer.zero_grad()\n",
    "            \n",
    "            out = model(x, xlen) \n",
    "            targets = y\n",
    "            \n",
    "            loss = loss_fn(out, targets) \n",
    "            total_loss += loss.item()\n",
    "            \n",
    "            loss.backward()\n",
    "            optimizer.step()\n",
    "            \n",
    "            print(f\"Training epoch {e+1}: AvgLoss {total_loss/(i+1)}\", end='\\r')\n",
    "        \n",
    "        all_losses.append(total_loss) # total loss of current epoch\n",
    "        \n",
    "        if save_every!=0 and (e+1)%save_every==0:\n",
    "            torch.save(model, model_fn+f\"_epoch_{e+1}\") # save every n-th trained model \n",
    "        \n",
    "        # EVAL & TEST\n",
    "        model.eval()\n",
    "        total_test_loss = 0\n",
    "        with torch.no_grad():\n",
    "            \n",
    "            collect_preds = []\n",
    "            collect_golds = []\n",
    "            \n",
    "            for i, (x, _, y, xlen,) in enumerate(test_batches):\n",
    "                x, y = x.to(device), y.to(device)\n",
    "                \n",
    "                # Model predictions \n",
    "                preds = model(x, xlen)\n",
    "                \n",
    "                binary_preds = preds.argmax(1)\n",
    "                targets = y\n",
    "                \n",
    "                collect_preds.append(binary_preds) \n",
    "                collect_golds.append(targets)\n",
    "                \n",
    "                \n",
    "                loss = loss_fn(preds, targets) \n",
    "                total_test_loss += loss.item()\n",
    "                \n",
    "                print(f\"Evaluating epoch {e+1}: AvgLoss {total_test_loss/(i+1)}\", end='\\r')\n",
    "                    \n",
    "        all_test_losses.append(total_test_loss) # total test loss of current epoch\n",
    "        \n",
    "        # Compare predictions of models with golds\n",
    "        accuracy, f1 = get_accu_and_f1(collect_preds, collect_golds)\n",
    "        # Result of current epoch\n",
    "        all_accu.append(accuracy.item())\n",
    "        all_f1.append(f1.item())\n",
    "        \n",
    "    torch.save(model, model_fn+f\"_epoch_{e+1}\") # save final trained model\n",
    "    stats = (all_losses, all_test_losses, all_accu, all_f1)\n",
    "\n",
    "    return model, stats"
   ]
  },
  {
   "cell_type": "code",
   "execution_count": 140,
   "id": "b1d7fc25",
   "metadata": {},
   "outputs": [
    {
     "name": "stdout",
     "output_type": "stream",
     "text": [
      "Evaluating epoch 50: AvgLoss 3.168040066957473875\r"
     ]
    }
   ],
   "source": [
    "device = 'cuda:3'\n",
    "model_init = UpDownPredictor(len(vocab),device)\n",
    "\n",
    "model, stats = train(model_init, 50, trainXY, testXY, 'predictorModel', device)"
   ]
  },
  {
   "cell_type": "markdown",
   "id": "007bd9de",
   "metadata": {},
   "source": [
    "#### TO LOAD TRAINED MODEL"
   ]
  },
  {
   "cell_type": "code",
   "execution_count": 111,
   "id": "5b0246b6",
   "metadata": {},
   "outputs": [
    {
     "data": {
      "text/plain": [
       "UpDownPredictor(\n",
       "  (embed): Embedding(21203, 300, padding_idx=0)\n",
       "  (lstm): LSTM(300, 128, num_layers=2, batch_first=True, dropout=0.2, bidirectional=True)\n",
       "  (drop): Dropout(p=0.2, inplace=False)\n",
       "  (relu): ReLU()\n",
       "  (sig): Sigmoid()\n",
       "  (classify2): Linear(in_features=256, out_features=2, bias=True)\n",
       ")"
      ]
     },
     "execution_count": 111,
     "metadata": {},
     "output_type": "execute_result"
    }
   ],
   "source": [
    "\n",
    "model = torch.load('predictorModel_epoch_50').to('cpu')\n",
    "model.eval()"
   ]
  },
  {
   "cell_type": "markdown",
   "id": "275ddd7e",
   "metadata": {},
   "source": [
    "#### Evaluating performance"
   ]
  },
  {
   "cell_type": "code",
   "execution_count": 43,
   "id": "e110557f",
   "metadata": {},
   "outputs": [],
   "source": [
    "import matplotlib.pyplot as plt\n",
    "\n",
    "def plot_line_chart(stats):\n",
    "    # Draw the line chart\n",
    "    n_epochs = len(stats[0])\n",
    "    the_epochs = list(range(1,n_epochs+1))    \n",
    "\n",
    "    # lines\n",
    "    train_loss, test_loss, accu, f1 = stats\n",
    "    \n",
    "    for i in range(2):\n",
    "        if i==0:\n",
    "            plt.plot(the_epochs, train_loss, label='training loss')\n",
    "            plt.plot(the_epochs, test_loss, label='testing loss')\n",
    "            \n",
    "            plt.title('Losses over iterations')\n",
    "            plt.xlabel('epoch')\n",
    "            plt.legend()\n",
    "            plt.show()\n",
    "        else:\n",
    "            plt.plot(the_epochs, accu, label='accuracy')\n",
    "            plt.plot(the_epochs, f1, label='f1')\n",
    "\n",
    "            plt.title('Accuracy/F1 over iterations')\n",
    "            plt.xlabel('epoch')\n",
    "            plt.legend()\n",
    "            plt.show()"
   ]
  },
  {
   "cell_type": "code",
   "execution_count": 144,
   "id": "4e139b6e",
   "metadata": {},
   "outputs": [
    {
     "data": {
      "image/png": "[encoded data removed]",
      "text/plain": [
       "<Figure size 432x288 with 1 Axes>"
      ]
     },
     "metadata": {
      "needs_background": "light"
     },
     "output_type": "display_data"
    },
    {
     "data": {
      "image/png": "[encoded data removed]",
      "text/plain": [
       "<Figure size 432x288 with 1 Axes>"
      ]
     },
     "metadata": {
      "needs_background": "light"
     },
     "output_type": "display_data"
    }
   ],
   "source": [
    "plot_line_chart(stats)"
   ]
  },
  {
   "cell_type": "code",
   "execution_count": 176,
   "id": "fb67889d",
   "metadata": {},
   "outputs": [
    {
     "data": {
      "text/plain": [
       "(tensor([[  17,   11,    5, 1330, 1226, 1773,   10,   11,  218,    0, 6603,   44]],\n",
       "        device='cuda:3'),\n",
       " tensor([12]))"
      ]
     },
     "execution_count": 176,
     "metadata": {},
     "output_type": "execute_result"
    }
   ],
   "source": [
    "def get_model_inputs(text):\n",
    "    test_tensor = torch.tensor(text_to_array(text)).unsqueeze(0).to('cuda:3')\n",
    "    text_len = torch.tensor(test_tensor.shape[1], dtype=torch.int64).unsqueeze(0)\n",
    "    return test_tensor, text_len\n",
    "    \n",
    "testtext = \"this is a machine learning model that is trying predicting popularity!\"\n",
    "\n",
    "get_model_inputs(testtext)"
   ]
  },
  {
   "cell_type": "code",
   "execution_count": 174,
   "id": "fe5f537e",
   "metadata": {},
   "outputs": [
    {
     "name": "stdout",
     "output_type": "stream",
     "text": [
      "tensor([1], device='cuda:3')\n"
     ]
    }
   ],
   "source": [
    "model.to('cuda:3')\n",
    "model.eval()\n",
    "with torch.no_grad():\n",
    "    out = model( *get_model_inputs('how much wood would a woodchuck chuck if a woodchuck would chuck wood?') )\n",
    "    print(out.argmax(1))"
   ]
  }
 ],
 "metadata": {
  "kernelspec": {
   "display_name": "Python 3 (ipykernel)",
   "language": "python",
   "name": "python3"
  },
  "language_info": {
   "codemirror_mode": {
    "name": "ipython",
    "version": 3
   },
   "file_extension": ".py",
   "mimetype": "text/x-python",
   "name": "python",
   "nbconvert_exporter": "python",
   "pygments_lexer": "ipython3",
   "version": "3.9.6"
  }
 },
 "nbformat": 4,
 "nbformat_minor": 5
}
